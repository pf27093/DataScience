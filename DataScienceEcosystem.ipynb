{
 "cells": [
  {
   "cell_type": "markdown",
   "id": "7873f06d-bd68-4f5d-badb-40c90d7d8edf",
   "metadata": {},
   "source": [
    "# Data Science Tools and Ecosystem"
   ]
  },
  {
   "cell_type": "markdown",
   "id": "3363be36-6af3-4c33-a07e-8fa6c1249842",
   "metadata": {},
   "source": [
    "In this notebook, Data Science Tools and Ecosystem are summarized."
   ]
  },
  {
   "cell_type": "markdown",
   "id": "b6e3ae72-ee0d-41ba-9ef4-16c31dab637a",
   "metadata": {},
   "source": [
    "Some of the popular languages that Data Scientists use are:\n",
    "1. Python\n",
    "2. SQL\n",
    "3. R\n",
    "4. Scala\n",
    "5. Julia"
   ]
  },
  {
   "cell_type": "markdown",
   "id": "17ca015b-27fe-4313-a471-5486f2ffaf50",
   "metadata": {},
   "source": [
    "Some of the commonly used libraries used by Data Scientists include:\n",
    "1. Pandas\n",
    "2. Numpy\n",
    "3. Plotly\n",
    "4. Ggplot2\n",
    "5. Pytorch"
   ]
  },
  {
   "cell_type": "markdown",
   "id": "b6d30f65-46f7-40c5-b29b-a97489fa0ed5",
   "metadata": {},
   "source": [
    "| Data Science Tools |\n",
    "| ------------------ |\n",
    "|Jupyter Notebook | \n",
    "|R |\n",
    "|Python |"
   ]
  },
  {
   "cell_type": "markdown",
   "id": "2b9318d5-abcd-4f9f-93bb-d688b39b8a18",
   "metadata": {},
   "source": [
    "### Below are a few examples of evaluating arithmetic expressions in Python"
   ]
  },
  {
   "cell_type": "code",
   "execution_count": 2,
   "id": "65292cdc-ef87-4191-9a25-0897d101f2ed",
   "metadata": {},
   "outputs": [
    {
     "data": {
      "text/plain": [
       "17"
      ]
     },
     "execution_count": 2,
     "metadata": {},
     "output_type": "execute_result"
    }
   ],
   "source": [
    "#This a simple arithmetic expression to mutiply then add integers\n",
    "(3*4)+5"
   ]
  },
  {
   "cell_type": "code",
   "execution_count": 3,
   "id": "3e7eda7c-970e-4f97-aba5-3ad323cad4d8",
   "metadata": {},
   "outputs": [
    {
     "data": {
      "text/plain": [
       "3.3333333333333335"
      ]
     },
     "execution_count": 3,
     "metadata": {},
     "output_type": "execute_result"
    }
   ],
   "source": [
    "#This will convert 200 minutes to hours by diving by 60\n",
    "200/60"
   ]
  },
  {
   "cell_type": "markdown",
   "id": "dd1a294c-0465-4bce-8e76-2137b7cd5412",
   "metadata": {},
   "source": [
    "**Objectives:**\n",
    "- Tools for Data Science\n",
    "- Popular languages for Data Science\n",
    "- Jupyter Notebook with markdown and code cells\n",
    "- Git and GitHub\n",
    "- Packages, APIs for Data Science"
   ]
  },
  {
   "cell_type": "markdown",
   "id": "b5300068-91a9-470f-b699-5b821922fa63",
   "metadata": {},
   "source": [
    "## Author\n",
    "Patrick Fourn"
   ]
  },
  {
   "cell_type": "code",
   "execution_count": null,
   "id": "b0a5abad-3589-449d-ade5-ed2f88588009",
   "metadata": {},
   "outputs": [],
   "source": []
  }
 ],
 "metadata": {
  "kernelspec": {
   "display_name": "Python 3 (ipykernel)",
   "language": "python",
   "name": "python3"
  },
  "language_info": {
   "codemirror_mode": {
    "name": "ipython",
    "version": 3
   },
   "file_extension": ".py",
   "mimetype": "text/x-python",
   "name": "python",
   "nbconvert_exporter": "python",
   "pygments_lexer": "ipython3",
   "version": "3.11.7"
  }
 },
 "nbformat": 4,
 "nbformat_minor": 5
}
